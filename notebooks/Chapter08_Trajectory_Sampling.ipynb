{
 "cells": [
  {
   "cell_type": "code",
   "execution_count": 1,
   "metadata": {},
   "outputs": [
    {
     "name": "stderr",
     "output_type": "stream",
     "text": [
      "┌ Info: Precompiling ReinforcementLearning [158674fc-8238-5cab-b5ba-03dfc80d1318]\n",
      "└ @ Base loading.jl:1273\n",
      "WARNING: Method definition GridWorld(Any...) in module POMDPModels at deprecated.jl:41 overwritten at deprecated.jl:65.\n",
      "  ** incremental compilation may be fatally broken for this module **\n",
      "\n",
      "WARNING: using DataStructures.update! in module ReinforcementLearning conflicts with an existing identifier.\n",
      "WARNING: using DataStructures.isfull in module ReinforcementLearning conflicts with an existing identifier.\n",
      "WARNING: using DataStructures.capacity in module ReinforcementLearning conflicts with an existing identifier.\n",
      "WARNING: using ProgressMeter.update! in module ReinforcementLearning conflicts with an existing identifier.\n"
     ]
    }
   ],
   "source": [
    "using ReinforcementLearning, ReinforcementLearningEnvironments"
   ]
  }
 ],
 "metadata": {
  "kernelspec": {
   "display_name": "Julia 1.3.0-rc2",
   "language": "julia",
   "name": "julia-1.3"
  },
  "language_info": {
   "file_extension": ".jl",
   "mimetype": "application/julia",
   "name": "julia",
   "version": "1.3.0"
  }
 },
 "nbformat": 4,
 "nbformat_minor": 2
}
