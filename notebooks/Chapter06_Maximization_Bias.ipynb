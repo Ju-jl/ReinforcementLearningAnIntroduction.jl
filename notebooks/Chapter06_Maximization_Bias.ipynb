{
 "cells": [
  {
   "cell_type": "code",
   "execution_count": 1,
   "metadata": {},
   "outputs": [
    {
     "name": "stderr",
     "output_type": "stream",
     "text": [
      "┌ Info: Precompiling RLIntro [02c1da58-b9a1-11e8-0212-f9611b8fe936]\n",
      "└ @ Base loading.jl:1264\n",
      "┌ Warning: Package RLIntro does not have StatsBase in its dependencies:\n",
      "│ - If you have RLIntro checked out for development and have\n",
      "│   added StatsBase as a dependency but haven't updated your primary\n",
      "│   environment's manifest file, try `Pkg.resolve()`.\n",
      "│ - Otherwise you may need to report an issue with RLIntro\n",
      "└ Loading StatsBase into RLIntro from project dependency, future warnings for RLIntro are suppressed.\n"
     ]
    }
   ],
   "source": [
    "using ReinforcementLearning, ReinforcementLearningEnvironments\n",
    "using RLIntro.MaximizationBias"
   ]
  }
 ],
 "metadata": {
  "kernelspec": {
   "display_name": "Julia 1.3.0-rc1",
   "language": "julia",
   "name": "julia-1.3"
  },
  "language_info": {
   "file_extension": ".jl",
   "mimetype": "application/julia",
   "name": "julia",
   "version": "1.3.0"
  }
 },
 "nbformat": 4,
 "nbformat_minor": 2
}
